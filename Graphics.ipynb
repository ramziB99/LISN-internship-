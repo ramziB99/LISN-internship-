{
  "nbformat": 4,
  "nbformat_minor": 0,
  "metadata": {
    "colab": {
      "name": "Untitled16.ipynb",
      "provenance": [],
      "collapsed_sections": []
    },
    "kernelspec": {
      "name": "python3",
      "display_name": "Python 3"
    },
    "language_info": {
      "name": "python"
    }
  },
  "cells": [
    {
      "cell_type": "markdown",
      "metadata": {
        "id": "o_9EoL4IPsNo"
      },
      "source": [
        "# RSSI measurement\n"
      ]
    },
    {
      "cell_type": "code",
      "metadata": {
        "id": "fy_WhXKwbpZE"
      },
      "source": [
        "import matplotlib.pyplot as plt\n",
        "import numpy as np\n",
        "import csv\n",
        "import pandas as pd\n",
        "import scipy.stats as st"
      ],
      "execution_count": null,
      "outputs": []
    },
    {
      "cell_type": "code",
      "metadata": {
        "id": "re8ElCMVLGHn"
      },
      "source": [
        "df0 = pd.read_csv('Wtest0.csv', usecols=['RSSI'])\n",
        "df1 = pd.read_csv('Wtest1.csv', usecols=['RSSI'])\n",
        "df2 = pd.read_csv('Wtest2.csv', usecols=['RSSI'])\n",
        "df3 = pd.read_csv('Wtest3.csv', usecols=['RSSI'])\n",
        "df4 = pd.read_csv('Wtest4.csv', usecols=['RSSI'])\n",
        "df5 = pd.read_csv('Wtest5.csv', usecols=['RSSI'])\n",
        "df6 = pd.read_csv('Wtest6.csv', usecols=['RSSI'])\n",
        "df7 = pd.read_csv('Wtest7.csv', usecols=['RSSI'])\n",
        "df8 = pd.read_csv('Wtest8.csv', usecols=['RSSI'])\n",
        "df9 = pd.read_csv('Wtest9.csv', usecols=['RSSI'])\n",
        "df10 = pd.read_csv('Wtest10.csv', usecols=['RSSI'])\n",
        "\n"
      ],
      "execution_count": null,
      "outputs": []
    },
    {
      "cell_type": "code",
      "metadata": {
        "id": "oBUKYu2DS2MC"
      },
      "source": [
        "def clean(df):\n",
        "  df = df.RSSI.str.replace(r'\\D', '')\n",
        "  df = df.astype(float)\n",
        "  df = - df\n",
        "  return df"
      ],
      "execution_count": null,
      "outputs": []
    },
    {
      "cell_type": "code",
      "metadata": {
        "id": "9uSMZdVn49kp"
      },
      "source": [
        "df0 = clean(df0)\n",
        "df1 = clean(df1)\n",
        "df2 = clean(df2)\n",
        "df3 = clean(df3)\n",
        "df4 = clean(df4)\n",
        "df5 = clean(df5)\n",
        "df6 = clean(df6)\n",
        "df7 = clean(df7)\n",
        "df8 = clean(df8)\n",
        "df9 = clean(df9)\n",
        "df10 = clean(df10)"
      ],
      "execution_count": null,
      "outputs": []
    },
    {
      "cell_type": "code",
      "metadata": {
        "colab": {
          "base_uri": "https://localhost:8080/"
        },
        "id": "iLhX2agAqQgR",
        "outputId": "5a846bfe-a10e-4254-ef3e-4b6c3b1f0e8d"
      },
      "source": [
        "df0.describe()"
      ],
      "execution_count": null,
      "outputs": [
        {
          "output_type": "execute_result",
          "data": {
            "text/plain": [
              "count    20.000000\n",
              "mean    -16.900000\n",
              "std       8.589467\n",
              "min     -34.000000\n",
              "25%     -24.250000\n",
              "50%     -13.500000\n",
              "75%     -10.000000\n",
              "max     -10.000000\n",
              "Name: RSSI, dtype: float64"
            ]
          },
          "metadata": {
            "tags": []
          },
          "execution_count": 5
        }
      ]
    },
    {
      "cell_type": "code",
      "metadata": {
        "id": "I8E6nglrJLxJ"
      },
      "source": [
        "df = [df0 , df1, df2 , df3 , df4 , df5 , df6 , df7, df8 , df9, df10]\n",
        "mean = []\n",
        "for i in df :\n",
        "  mean.append(i.mean())\n"
      ],
      "execution_count": null,
      "outputs": []
    },
    {
      "cell_type": "code",
      "metadata": {
        "colab": {
          "base_uri": "https://localhost:8080/",
          "height": 295
        },
        "id": "bU5c797c9oYw",
        "outputId": "e4ab802a-2eb5-465b-d2ac-66333618af8a"
      },
      "source": [
        "x = np.array([0, 0.05, 0.15, 0.25, 0.35, 0.5 , 0.75 , 1 , 2 , 3 , 5])\n",
        "y = [list(df0),list(df1),list(df2),list(df3),list(df4),list(df5),list(df6),list(df7),list(df8),list(df9),list(df10)]\n",
        "\n",
        "\n",
        "for xe, ye in zip(x, y):\n",
        "    plt.scatter([xe] * len(ye), ye , marker = \"+\", color='blue')\n",
        "\n",
        "plt.plot(x, mean , label = \"average RSSI \")\n",
        "plt.legend()\n",
        "plt.title('RSSI measurment from wifi packets')\n",
        "plt.xlabel(\"Distances[m]\")\n",
        "plt.ylabel(\"RSSI[Dbm]\")\n",
        "plt.show()"
      ],
      "execution_count": null,
      "outputs": [
        {
          "output_type": "display_data",
          "data": {
            "image/png": "[encoded data removed]",
            "text/plain": [
              "<Figure size 432x288 with 1 Axes>"
            ]
          },
          "metadata": {
            "tags": [],
            "needs_background": "light"
          }
        }
      ]
    },
    {
      "cell_type": "code",
      "metadata": {
        "id": "Dl9fNzMBSTqd",
        "colab": {
          "base_uri": "https://localhost:8080/",
          "height": 312
        },
        "outputId": "d7742300-c5ea-415d-8816-337d114514e5"
      },
      "source": [
        "x = np.array([0, 0.05, 0.15, 0.25, 0.35, 0.5 , 0.75 , 1 , 2 , 3 , 5])\n",
        "z = np.array([-18,-21,-27,-31,-36,-42,-46,-50,-56,-64, -65])\n",
        "\n",
        "plt.plot(x, mean , label = 'Wifi rasp packets ')\n",
        "plt.plot(x,z,label='Wifi rasp iwconfig')\n",
        "plt.legend()\n",
        "plt.title('average RSSI from differents ways ')\n",
        "plt.xlabel(\"Distances[m]\")\n",
        "plt.ylabel(\"RSSI[Dbm]\")\n",
        "plt.show"
      ],
      "execution_count": null,
      "outputs": [
        {
          "output_type": "execute_result",
          "data": {
            "text/plain": [
              "<function matplotlib.pyplot.show>"
            ]
          },
          "metadata": {
            "tags": []
          },
          "execution_count": 8
        },
        {
          "output_type": "display_data",
          "data": {
            "image/png": "[encoded data removed]",
            "text/plain": [
              "<Figure size 432x288 with 1 Axes>"
            ]
          },
          "metadata": {
            "tags": [],
            "needs_background": "light"
          }
        }
      ]
    },
    {
      "cell_type": "code",
      "metadata": {
        "colab": {
          "base_uri": "https://localhost:8080/",
          "height": 297
        },
        "id": "ec4qYUTxvBek",
        "outputId": "b31d14c0-72b2-4d63-f1be-afd1350e85f7"
      },
      "source": [
        "df = pd.concat([df0,df1,df2,df3,df4,df5,df6,df7,df8,df9,df10], axis=1)\n",
        "df.columns = ['0','0.05','0.15','0.25','0.35','0.5','0.75','1','2','3','5']\n",
        "df.describe()"
      ],
      "execution_count": null,
      "outputs": [
        {
          "output_type": "execute_result",
          "data": {
            "text/html": [
              "<div>\n",
              "<style scoped>\n",
              "    .dataframe tbody tr th:only-of-type {\n",
              "        vertical-align: middle;\n",
              "    }\n",
              "\n",
              "    .dataframe tbody tr th {\n",
              "        vertical-align: top;\n",
              "    }\n",
              "\n",
              "    .dataframe thead th {\n",
              "        text-align: right;\n",
              "    }\n",
              "</style>\n",
              "<table border=\"1\" class=\"dataframe\">\n",
              "  <thead>\n",
              "    <tr style=\"text-align: right;\">\n",
              "      <th></th>\n",
              "      <th>0</th>\n",
              "      <th>0.05</th>\n",
              "      <th>0.15</th>\n",
              "      <th>0.25</th>\n",
              "      <th>0.35</th>\n",
              "      <th>0.5</th>\n",
              "      <th>0.75</th>\n",
              "      <th>1</th>\n",
              "      <th>2</th>\n",
              "      <th>3</th>\n",
              "      <th>5</th>\n",
              "    </tr>\n",
              "  </thead>\n",
              "  <tbody>\n",
              "    <tr>\n",
              "      <th>count</th>\n",
              "      <td>20.000000</td>\n",
              "      <td>20.000000</td>\n",
              "      <td>20.0000</td>\n",
              "      <td>20.000000</td>\n",
              "      <td>20.0000</td>\n",
              "      <td>20.000000</td>\n",
              "      <td>20.00000</td>\n",
              "      <td>20.000000</td>\n",
              "      <td>20.0000</td>\n",
              "      <td>20.000000</td>\n",
              "      <td>20.000000</td>\n",
              "    </tr>\n",
              "    <tr>\n",
              "      <th>mean</th>\n",
              "      <td>-16.900000</td>\n",
              "      <td>-22.400000</td>\n",
              "      <td>-20.9000</td>\n",
              "      <td>-23.250000</td>\n",
              "      <td>-30.8500</td>\n",
              "      <td>-30.600000</td>\n",
              "      <td>-28.90000</td>\n",
              "      <td>-38.500000</td>\n",
              "      <td>-40.3000</td>\n",
              "      <td>-47.250000</td>\n",
              "      <td>-48.050000</td>\n",
              "    </tr>\n",
              "    <tr>\n",
              "      <th>std</th>\n",
              "      <td>8.589467</td>\n",
              "      <td>7.949843</td>\n",
              "      <td>3.9855</td>\n",
              "      <td>5.820789</td>\n",
              "      <td>2.5808</td>\n",
              "      <td>2.623778</td>\n",
              "      <td>1.97084</td>\n",
              "      <td>3.187145</td>\n",
              "      <td>3.4504</td>\n",
              "      <td>4.609772</td>\n",
              "      <td>2.605157</td>\n",
              "    </tr>\n",
              "    <tr>\n",
              "      <th>min</th>\n",
              "      <td>-34.000000</td>\n",
              "      <td>-43.000000</td>\n",
              "      <td>-31.0000</td>\n",
              "      <td>-43.000000</td>\n",
              "      <td>-34.0000</td>\n",
              "      <td>-37.000000</td>\n",
              "      <td>-33.00000</td>\n",
              "      <td>-45.000000</td>\n",
              "      <td>-45.0000</td>\n",
              "      <td>-60.000000</td>\n",
              "      <td>-55.000000</td>\n",
              "    </tr>\n",
              "    <tr>\n",
              "      <th>25%</th>\n",
              "      <td>-24.250000</td>\n",
              "      <td>-28.250000</td>\n",
              "      <td>-23.2500</td>\n",
              "      <td>-22.000000</td>\n",
              "      <td>-33.0000</td>\n",
              "      <td>-30.000000</td>\n",
              "      <td>-29.50000</td>\n",
              "      <td>-40.250000</td>\n",
              "      <td>-43.0000</td>\n",
              "      <td>-48.000000</td>\n",
              "      <td>-50.000000</td>\n",
              "    </tr>\n",
              "    <tr>\n",
              "      <th>50%</th>\n",
              "      <td>-13.500000</td>\n",
              "      <td>-19.000000</td>\n",
              "      <td>-19.0000</td>\n",
              "      <td>-21.500000</td>\n",
              "      <td>-31.0000</td>\n",
              "      <td>-30.000000</td>\n",
              "      <td>-28.00000</td>\n",
              "      <td>-37.500000</td>\n",
              "      <td>-41.0000</td>\n",
              "      <td>-47.000000</td>\n",
              "      <td>-48.000000</td>\n",
              "    </tr>\n",
              "    <tr>\n",
              "      <th>75%</th>\n",
              "      <td>-10.000000</td>\n",
              "      <td>-19.000000</td>\n",
              "      <td>-18.0000</td>\n",
              "      <td>-20.000000</td>\n",
              "      <td>-28.0000</td>\n",
              "      <td>-29.000000</td>\n",
              "      <td>-28.00000</td>\n",
              "      <td>-36.000000</td>\n",
              "      <td>-38.0000</td>\n",
              "      <td>-46.000000</td>\n",
              "      <td>-46.000000</td>\n",
              "    </tr>\n",
              "    <tr>\n",
              "      <th>max</th>\n",
              "      <td>-10.000000</td>\n",
              "      <td>-13.000000</td>\n",
              "      <td>-17.0000</td>\n",
              "      <td>-19.000000</td>\n",
              "      <td>-27.0000</td>\n",
              "      <td>-28.000000</td>\n",
              "      <td>-27.00000</td>\n",
              "      <td>-35.000000</td>\n",
              "      <td>-34.0000</td>\n",
              "      <td>-39.000000</td>\n",
              "      <td>-44.000000</td>\n",
              "    </tr>\n",
              "  </tbody>\n",
              "</table>\n",
              "</div>"
            ],
            "text/plain": [
              "               0       0.05     0.15  ...        2          3          5\n",
              "count  20.000000  20.000000  20.0000  ...  20.0000  20.000000  20.000000\n",
              "mean  -16.900000 -22.400000 -20.9000  ... -40.3000 -47.250000 -48.050000\n",
              "std     8.589467   7.949843   3.9855  ...   3.4504   4.609772   2.605157\n",
              "min   -34.000000 -43.000000 -31.0000  ... -45.0000 -60.000000 -55.000000\n",
              "25%   -24.250000 -28.250000 -23.2500  ... -43.0000 -48.000000 -50.000000\n",
              "50%   -13.500000 -19.000000 -19.0000  ... -41.0000 -47.000000 -48.000000\n",
              "75%   -10.000000 -19.000000 -18.0000  ... -38.0000 -46.000000 -46.000000\n",
              "max   -10.000000 -13.000000 -17.0000  ... -34.0000 -39.000000 -44.000000\n",
              "\n",
              "[8 rows x 11 columns]"
            ]
          },
          "metadata": {
            "tags": []
          },
          "execution_count": 9
        }
      ]
    },
    {
      "cell_type": "code",
      "metadata": {
        "id": "jY-sN9mPtj6-"
      },
      "source": [
        "xi = np.array(['0', '0.05', '0.15', '0.25', '0.35', '0.5' , '0.75' , '1' , '2' , '3' , '5'])\n",
        "CI = []\n",
        "for i in xi :\n",
        "  CI.append(st.t.interval(alpha=0.95, df=len(df[i])-1, loc=np.mean(df[i]), scale=st.sem(df[i])))\n"
      ],
      "execution_count": null,
      "outputs": []
    },
    {
      "cell_type": "code",
      "metadata": {
        "colab": {
          "base_uri": "https://localhost:8080/",
          "height": 390
        },
        "id": "Df0X6i56wvOp",
        "outputId": "2b9aecc9-6a63-4938-a05c-f51ef88265a9"
      },
      "source": [
        "dff = pd.DataFrame(CI, index=['0', '0.05', '0.15', '0.25', '0.35', '0.5' , '0.75' , '1' , '2' , '3' , '5'], columns =['CI min', 'CI max'])\n",
        "dff = pd.concat([dff,df.mean()], axis=1)\n",
        "dff.columns = ['CI min', 'CI max', 'mean']\n",
        "dff"
      ],
      "execution_count": null,
      "outputs": [
        {
          "output_type": "execute_result",
          "data": {
            "text/html": [
              "<div>\n",
              "<style scoped>\n",
              "    .dataframe tbody tr th:only-of-type {\n",
              "        vertical-align: middle;\n",
              "    }\n",
              "\n",
              "    .dataframe tbody tr th {\n",
              "        vertical-align: top;\n",
              "    }\n",
              "\n",
              "    .dataframe thead th {\n",
              "        text-align: right;\n",
              "    }\n",
              "</style>\n",
              "<table border=\"1\" class=\"dataframe\">\n",
              "  <thead>\n",
              "    <tr style=\"text-align: right;\">\n",
              "      <th></th>\n",
              "      <th>CI min</th>\n",
              "      <th>CI max</th>\n",
              "      <th>mean</th>\n",
              "    </tr>\n",
              "  </thead>\n",
              "  <tbody>\n",
              "    <tr>\n",
              "      <th>0</th>\n",
              "      <td>-20.919994</td>\n",
              "      <td>-12.880006</td>\n",
              "      <td>-16.90</td>\n",
              "    </tr>\n",
              "    <tr>\n",
              "      <th>0.05</th>\n",
              "      <td>-26.120641</td>\n",
              "      <td>-18.679359</td>\n",
              "      <td>-22.40</td>\n",
              "    </tr>\n",
              "    <tr>\n",
              "      <th>0.15</th>\n",
              "      <td>-22.765271</td>\n",
              "      <td>-19.034729</td>\n",
              "      <td>-20.90</td>\n",
              "    </tr>\n",
              "    <tr>\n",
              "      <th>0.25</th>\n",
              "      <td>-25.974213</td>\n",
              "      <td>-20.525787</td>\n",
              "      <td>-23.25</td>\n",
              "    </tr>\n",
              "    <tr>\n",
              "      <th>0.35</th>\n",
              "      <td>-32.057851</td>\n",
              "      <td>-29.642149</td>\n",
              "      <td>-30.85</td>\n",
              "    </tr>\n",
              "    <tr>\n",
              "      <th>0.5</th>\n",
              "      <td>-31.827966</td>\n",
              "      <td>-29.372034</td>\n",
              "      <td>-30.60</td>\n",
              "    </tr>\n",
              "    <tr>\n",
              "      <th>0.75</th>\n",
              "      <td>-29.822382</td>\n",
              "      <td>-27.977618</td>\n",
              "      <td>-28.90</td>\n",
              "    </tr>\n",
              "    <tr>\n",
              "      <th>1</th>\n",
              "      <td>-39.991630</td>\n",
              "      <td>-37.008370</td>\n",
              "      <td>-38.50</td>\n",
              "    </tr>\n",
              "    <tr>\n",
              "      <th>2</th>\n",
              "      <td>-41.914837</td>\n",
              "      <td>-38.685163</td>\n",
              "      <td>-40.30</td>\n",
              "    </tr>\n",
              "    <tr>\n",
              "      <th>3</th>\n",
              "      <td>-49.407440</td>\n",
              "      <td>-45.092560</td>\n",
              "      <td>-47.25</td>\n",
              "    </tr>\n",
              "    <tr>\n",
              "      <th>5</th>\n",
              "      <td>-49.269251</td>\n",
              "      <td>-46.830749</td>\n",
              "      <td>-48.05</td>\n",
              "    </tr>\n",
              "  </tbody>\n",
              "</table>\n",
              "</div>"
            ],
            "text/plain": [
              "         CI min     CI max   mean\n",
              "0    -20.919994 -12.880006 -16.90\n",
              "0.05 -26.120641 -18.679359 -22.40\n",
              "0.15 -22.765271 -19.034729 -20.90\n",
              "0.25 -25.974213 -20.525787 -23.25\n",
              "0.35 -32.057851 -29.642149 -30.85\n",
              "0.5  -31.827966 -29.372034 -30.60\n",
              "0.75 -29.822382 -27.977618 -28.90\n",
              "1    -39.991630 -37.008370 -38.50\n",
              "2    -41.914837 -38.685163 -40.30\n",
              "3    -49.407440 -45.092560 -47.25\n",
              "5    -49.269251 -46.830749 -48.05"
            ]
          },
          "metadata": {
            "tags": []
          },
          "execution_count": 38
        }
      ]
    }
  ]
}